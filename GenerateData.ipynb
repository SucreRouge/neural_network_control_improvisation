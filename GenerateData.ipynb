{
 "cells": [
  {
   "cell_type": "code",
   "execution_count": 1,
   "metadata": {
    "collapsed": true
   },
   "outputs": [],
   "source": [
    "import numpy as np"
   ]
  },
  {
   "cell_type": "code",
   "execution_count": 2,
   "metadata": {
    "collapsed": true
   },
   "outputs": [],
   "source": [
    "note_resolution = 12\n",
    "intervals = [0, 2, 2, 1, 2, 2, 2]\n",
    "max_len = len(intervals)\n",
    "min_len = 2"
   ]
  },
  {
   "cell_type": "code",
   "execution_count": 3,
   "metadata": {
    "collapsed": true
   },
   "outputs": [],
   "source": [
    "# build sequence given intervals\n",
    "scale = np.zeros((len(intervals), note_resolution))\n",
    "scale[np.arange(len(intervals)), np.cumsum(intervals) % note_resolution] = 1"
   ]
  },
  {
   "cell_type": "code",
   "execution_count": 4,
   "metadata": {
    "collapsed": false
   },
   "outputs": [],
   "source": [
    "# shift to obtain different modes\n",
    "seqs = [np.roll(scale, -i, axis=0) for i in xrange(len(scale))]"
   ]
  },
  {
   "cell_type": "code",
   "execution_count": 5,
   "metadata": {
    "collapsed": false
   },
   "outputs": [],
   "source": [
    "# shift to obtain different tonics\n",
    "for i in xrange(len(seqs)):\n",
    "    for j in xrange(1, note_resolution):\n",
    "        sequence = np.roll(seqs[i], -j, axis=1)\n",
    "        seqs.append(sequence)"
   ]
  },
  {
   "cell_type": "code",
   "execution_count": 6,
   "metadata": {
    "collapsed": false
   },
   "outputs": [],
   "source": [
    "# add reverse of all\n",
    "for i in xrange(len(seqs)):\n",
    "    seqs.append(seqs[i][::-1])"
   ]
  },
  {
   "cell_type": "code",
   "execution_count": 7,
   "metadata": {
    "collapsed": false
   },
   "outputs": [],
   "source": [
    "masks = []\n",
    "# create all possible masks per sequence of length [min_len, max_len]\n",
    "for i in xrange(min_len, max_len):\n",
    "    mask = np.zeros((len(intervals), ), dtype=np.int32)\n",
    "    mask[:i] = 1\n",
    "    masks.append(mask)\n",
    "    # not necessary to shift masks because sequences are shifted\n",
    "    # for j in xrange(0, 1+max_len - i):\n",
    "    #    masks.append(np.roll(mask, j))"
   ]
  },
  {
   "cell_type": "code",
   "execution_count": 13,
   "metadata": {
    "collapsed": false
   },
   "outputs": [
    {
     "data": {
      "text/plain": [
       "array([1, 1, 1, 1, 1, 1, 0], dtype=int32)"
      ]
     },
     "execution_count": 13,
     "metadata": {},
     "output_type": "execute_result"
    }
   ],
   "source": [
    "masks[-1]"
   ]
  },
  {
   "cell_type": "code",
   "execution_count": 8,
   "metadata": {
    "collapsed": true
   },
   "outputs": [],
   "source": [
    "input_data, target_data, mask_data = [], [], []"
   ]
  },
  {
   "cell_type": "code",
   "execution_count": 9,
   "metadata": {
    "collapsed": false
   },
   "outputs": [],
   "source": [
    "for mask in masks:\n",
    "    for seq in seqs:\n",
    "        input_data.append(seq)\n",
    "        target_data.append(seq[np.count_nonzero(mask)])\n",
    "        mask_data.append(mask)"
   ]
  },
  {
   "cell_type": "code",
   "execution_count": 10,
   "metadata": {
    "collapsed": true
   },
   "outputs": [],
   "source": [
    "input_data = np.array(input_data)\n",
    "target_data = np.array(target_data)\n",
    "mask_data = np.array(mask_data)"
   ]
  },
  {
   "cell_type": "code",
   "execution_count": 11,
   "metadata": {
    "collapsed": false
   },
   "outputs": [
    {
     "name": "stdout",
     "output_type": "stream",
     "text": [
      "[[ 1.  0.  0.  0.  0.  0.  0.  0.  0.  0.  0.  0.]\n",
      " [ 0.  0.  1.  0.  0.  0.  0.  0.  0.  0.  0.  0.]\n",
      " [ 0.  0.  0.  0.  1.  0.  0.  0.  0.  0.  0.  0.]\n",
      " [ 0.  0.  0.  0.  0.  1.  0.  0.  0.  0.  0.  0.]\n",
      " [ 0.  0.  0.  0.  0.  0.  0.  1.  0.  0.  0.  0.]\n",
      " [ 0.  0.  0.  0.  0.  0.  0.  0.  0.  1.  0.  0.]\n",
      " [ 0.  0.  0.  0.  0.  0.  0.  0.  0.  0.  0.  1.]]\n",
      "[ 0.  0.  0.  0.  1.  0.  0.  0.  0.  0.  0.  0.]\n",
      "[1 1 0 0 0 0 0]\n"
     ]
    }
   ],
   "source": [
    "i = 0\n",
    "print input_data[i]\n",
    "print target_data[i]\n",
    "print mask_data[i]"
   ]
  }
 ],
 "metadata": {
  "kernelspec": {
   "display_name": "Python 2",
   "language": "python",
   "name": "python2"
  },
  "language_info": {
   "codemirror_mode": {
    "name": "ipython",
    "version": 2
   },
   "file_extension": ".py",
   "mimetype": "text/x-python",
   "name": "python",
   "nbconvert_exporter": "python",
   "pygments_lexer": "ipython2",
   "version": "2.7.12"
  }
 },
 "nbformat": 4,
 "nbformat_minor": 0
}
