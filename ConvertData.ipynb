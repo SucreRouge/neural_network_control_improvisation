{
 "cells": [
  {
   "cell_type": "code",
   "execution_count": 2,
   "metadata": {
    "collapsed": false,
    "deletable": true,
    "editable": true
   },
   "outputs": [],
   "source": [
    "import os\n",
    "import sys\n",
    "import ntpath\n",
    "#import music21 as m21\n",
    "import pretty_midi as pm\n",
    "import glob2 as glob\n",
    "import numpy as np\n",
    "import matplotlib\n",
    "import matplotlib.pylab as plt\n",
    "%matplotlib inline"
   ]
  },
  {
   "cell_type": "markdown",
   "metadata": {
    "deletable": true,
    "editable": true
   },
   "source": [
    "### Convert Kern files to MIDI"
   ]
  },
  {
   "cell_type": "code",
   "execution_count": 2,
   "metadata": {
    "collapsed": true,
    "deletable": true,
    "editable": true
   },
   "outputs": [],
   "source": [
    "krn_glob = '/media/steampunkhd/rafaelvalle/datasets/Piano/**/*.krn'"
   ]
  },
  {
   "cell_type": "code",
   "execution_count": 3,
   "metadata": {
    "collapsed": false,
    "deletable": true,
    "editable": true
   },
   "outputs": [],
   "source": [
    "for filepath in glob.glob(krn_glob):\n",
    "    d = m21.converter.parse(filepath)\n",
    "    d.write('midi', filepath+'.midi')"
   ]
  },
  {
   "cell_type": "markdown",
   "metadata": {
    "deletable": true,
    "editable": true
   },
   "source": [
    "### Convert MIDI files to Piano Roll"
   ]
  },
  {
   "cell_type": "code",
   "execution_count": 15,
   "metadata": {
    "collapsed": true,
    "deletable": true,
    "editable": true
   },
   "outputs": [],
   "source": [
    "midi_glob = '/media/steampunkhd/rafaelvalle/datasets/MIDI/Piano/**/*.mid'"
   ]
  },
  {
   "cell_type": "code",
   "execution_count": 17,
   "metadata": {
    "collapsed": false,
    "deletable": true,
    "editable": true
   },
   "outputs": [
    {
     "name": "stdout",
     "output_type": "stream",
     "text": [
      "/media/steampunkhd/rafaelvalle/datasets/MIDI/Piano/bach/Fugue6.mid <type 'exceptions.IOError'>\n",
      "/media/steampunkhd/rafaelvalle/datasets/MIDI/Piano/bach/Fugue15.mid <type 'exceptions.IOError'>\n",
      "/media/steampunkhd/rafaelvalle/datasets/MIDI/Piano/bach/Fugue11.mid <type 'exceptions.IOError'>\n",
      "/media/steampunkhd/rafaelvalle/datasets/MIDI/Piano/bach/Prelude15.mid <type 'exceptions.IOError'>\n",
      "/media/steampunkhd/rafaelvalle/datasets/MIDI/Piano/bach/Prelude22.mid <type 'exceptions.EOFError'>\n",
      "/media/steampunkhd/rafaelvalle/datasets/MIDI/Piano/bach/Fugue12.mid <type 'exceptions.IOError'>\n",
      "/media/steampunkhd/rafaelvalle/datasets/MIDI/Piano/bach/Prelude19.mid <type 'exceptions.EOFError'>\n",
      "/media/steampunkhd/rafaelvalle/datasets/MIDI/Piano/bach/Fugue24.mid <type 'exceptions.EOFError'>\n",
      "/media/steampunkhd/rafaelvalle/datasets/MIDI/Piano/bach/Prelude24.mid <type 'exceptions.IOError'>\n",
      "/media/steampunkhd/rafaelvalle/datasets/MIDI/Piano/bach/Prelude14.mid <type 'exceptions.IOError'>\n",
      "/media/steampunkhd/rafaelvalle/datasets/MIDI/Piano/bach/Fugue13.mid <type 'exceptions.IOError'>\n",
      "/media/steampunkhd/rafaelvalle/datasets/MIDI/Piano/bach/Fugue8.mid <type 'exceptions.IOError'>\n",
      "/media/steampunkhd/rafaelvalle/datasets/MIDI/Piano/bach/Prelude13.mid <type 'exceptions.IOError'>\n",
      "/media/steampunkhd/rafaelvalle/datasets/MIDI/Piano/bach/Prelude20.mid <type 'exceptions.IOError'>\n",
      "/media/steampunkhd/rafaelvalle/datasets/MIDI/Piano/bach/Fugue19.mid <type 'exceptions.IOError'>\n"
     ]
    }
   ],
   "source": [
    "for filepath in glob.glob(midi_glob):\n",
    "    try:\n",
    "        proll = pm.PrettyMIDI(filepath).get_piano_roll(fs=10).T\n",
    "        np.save(filepath, proll)\n",
    "        \n",
    "    except:\n",
    "        print filepath, sys.exc_info()[0]\n",
    "        continue"
   ]
  },
  {
   "cell_type": "markdown",
   "metadata": {
    "deletable": true,
    "editable": true
   },
   "source": [
    "## Implement encoding for Piano Rolls to reduce redundancy"
   ]
  }
 ],
 "metadata": {
  "kernelspec": {
   "display_name": "Python 2",
   "language": "python",
   "name": "python2"
  },
  "language_info": {
   "codemirror_mode": {
    "name": "ipython",
    "version": 2
   },
   "file_extension": ".py",
   "mimetype": "text/x-python",
   "name": "python",
   "nbconvert_exporter": "python",
   "pygments_lexer": "ipython2",
   "version": "2.7.12+"
  }
 },
 "nbformat": 4,
 "nbformat_minor": 0
}
