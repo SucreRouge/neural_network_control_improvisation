{
 "cells": [
  {
   "cell_type": "code",
   "execution_count": 2,
   "metadata": {
    "collapsed": false
   },
   "outputs": [],
   "source": [
    "import os\n",
    "import sys\n",
    "import ntpath\n",
    "import music21 as m21\n",
    "import pretty_midi as pm\n",
    "import glob2 as glob\n",
    "import numpy as np\n",
    "import matplotlib\n",
    "import matplotlib.pylab as plt\n",
    "%matplotlib inline"
   ]
  },
  {
   "cell_type": "markdown",
   "metadata": {},
   "source": [
    "### Convert Kern files to MIDI"
   ]
  },
  {
   "cell_type": "code",
   "execution_count": 2,
   "metadata": {
    "collapsed": true
   },
   "outputs": [],
   "source": [
    "krn_glob = '/Users/rafaelvalle/Desktop/datasets/Piano/mozart/*.krn'"
   ]
  },
  {
   "cell_type": "code",
   "execution_count": 3,
   "metadata": {
    "collapsed": false
   },
   "outputs": [],
   "source": [
    "for filepath in glob.glob(krn_glob):\n",
    "    d = m21.converter.parse(filepath)\n",
    "    d.write('midi', filepath+'.midi')"
   ]
  },
  {
   "cell_type": "markdown",
   "metadata": {},
   "source": [
    "### Convert MIDI files to Piano Roll"
   ]
  },
  {
   "cell_type": "code",
   "execution_count": 1,
   "metadata": {
    "collapsed": true
   },
   "outputs": [],
   "source": [
    "midi_glob = '/Users/rafaelvalle/Desktop/datasets/Piano/**/*.midi'"
   ]
  },
  {
   "cell_type": "code",
   "execution_count": 4,
   "metadata": {
    "collapsed": false
   },
   "outputs": [
    {
     "data": {
      "text/plain": [
       "'/Users/rafaelvalle/Desktop/datasets/Piano/beethoven/sonata01-1.krn.midi.encoded'"
      ]
     },
     "execution_count": 4,
     "metadata": {},
     "output_type": "execute_result"
    }
   ],
   "source": [
    "filepath = glob.glob(midi_glob)[0]\n",
    "filepath+'.encoded'"
   ]
  },
  {
   "cell_type": "code",
   "execution_count": null,
   "metadata": {
    "collapsed": true
   },
   "outputs": [],
   "source": []
  },
  {
   "cell_type": "code",
   "execution_count": null,
   "metadata": {
    "collapsed": false
   },
   "outputs": [
    {
     "name": "stderr",
     "output_type": "stream",
     "text": [
      "/usr/local/lib/python2.7/site-packages/pretty_midi/pretty_midi.py:87: RuntimeWarning: Tempo, Key or Time signature change events found on non-zero tracks.  This is not a valid type 0 or type 1 MIDI file. Tempo, Key or Time Signature may be wrong.\n",
      "  RuntimeWarning)\n"
     ]
    },
    {
     "name": "stdout",
     "output_type": "stream",
     "text": [
      "<type 'exceptions.NameError'>\n",
      "<type 'exceptions.NameError'>\n",
      "<type 'exceptions.NameError'>\n",
      "<type 'exceptions.NameError'>\n",
      "<type 'exceptions.NameError'>\n",
      "<type 'exceptions.NameError'>\n",
      "<type 'exceptions.NameError'>\n",
      "<type 'exceptions.NameError'>\n",
      "<type 'exceptions.KeyboardInterrupt'>\n",
      "<type 'exceptions.KeyboardInterrupt'>\n",
      "<type 'exceptions.NameError'>\n",
      "<type 'exceptions.KeyboardInterrupt'>\n",
      "<type 'exceptions.KeyboardInterrupt'>\n",
      "<type 'exceptions.KeyboardInterrupt'>\n",
      "<type 'exceptions.KeyboardInterrupt'>\n",
      "<type 'exceptions.KeyboardInterrupt'>\n",
      "<type 'exceptions.KeyboardInterrupt'>\n",
      "<type 'exceptions.KeyboardInterrupt'>\n",
      "<type 'exceptions.KeyboardInterrupt'>\n",
      "<type 'exceptions.KeyboardInterrupt'>\n",
      "<type 'exceptions.KeyboardInterrupt'>\n",
      "<type 'exceptions.NameError'>\n",
      "<type 'exceptions.KeyboardInterrupt'>\n",
      "<type 'exceptions.KeyboardInterrupt'>\n",
      "<type 'exceptions.KeyboardInterrupt'>\n",
      "<type 'exceptions.KeyboardInterrupt'>\n",
      "<type 'exceptions.KeyboardInterrupt'>\n",
      "<type 'exceptions.KeyboardInterrupt'>\n",
      "<type 'exceptions.KeyboardInterrupt'>\n",
      "<type 'exceptions.KeyboardInterrupt'>\n",
      "<type 'exceptions.NameError'>\n",
      "<type 'exceptions.NameError'>\n",
      "<type 'exceptions.NameError'>\n",
      "<type 'exceptions.NameError'>\n",
      "<type 'exceptions.NameError'>\n",
      "<type 'exceptions.NameError'>\n",
      "<type 'exceptions.NameError'>\n",
      "<type 'exceptions.NameError'>\n",
      "<type 'exceptions.NameError'>\n"
     ]
    }
   ],
   "source": [
    "for filepath in glob.glob(midi_glob):\n",
    "    try:\n",
    "        proll = pm.PrettyMIDI(filepath).get_piano_roll(fs=100).T\n",
    "        np.save(filepath, proll)\n",
    "        \n",
    "        # save encoded proll\n",
    "        proll_data = []\n",
    "        for t in xrange(proll.shape[0]-1):\n",
    "            if not np.array_equal(np.argwhere(proll[t] > 1), np.argwhere(proll[t+1] > 1)):        \n",
    "                proll_data.append([proll[t], i])\n",
    "                i = 1\n",
    "            else:\n",
    "                i += 1\n",
    "        np.save(filepath+'.encoded', np.array(proll_data))\n",
    "    except:\n",
    "        print sys.exc_info()[0]\n",
    "        continue"
   ]
  },
  {
   "cell_type": "markdown",
   "metadata": {},
   "source": [
    "## Encode Piano Rolls to reduce redundancy"
   ]
  },
  {
   "cell_type": "code",
   "execution_count": null,
   "metadata": {
    "collapsed": true
   },
   "outputs": [],
   "source": [
    "npy_glob = '/Users/rafaelvalle/Desktop/datasets/Piano/**/*.midi'\n",
    "for filepath in glob.glob(midi_glob):\n",
    "    \n"
   ]
  }
 ],
 "metadata": {
  "kernelspec": {
   "display_name": "Python 2",
   "language": "python",
   "name": "python2"
  },
  "language_info": {
   "codemirror_mode": {
    "name": "ipython",
    "version": 2
   },
   "file_extension": ".py",
   "mimetype": "text/x-python",
   "name": "python",
   "nbconvert_exporter": "python",
   "pygments_lexer": "ipython2",
   "version": "2.7.12"
  }
 },
 "nbformat": 4,
 "nbformat_minor": 0
}
