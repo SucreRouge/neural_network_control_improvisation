{
 "cells": [
  {
   "cell_type": "code",
   "execution_count": 1,
   "metadata": {
    "collapsed": false
   },
   "outputs": [
    {
     "name": "stderr",
     "output_type": "stream",
     "text": [
      "/usr/local/lib/python2.7/site-packages/matplotlib/__init__.py:1357: UserWarning:  This call to matplotlib.use() has no effect\n",
      "because the backend has already been chosen;\n",
      "matplotlib.use() must be called *before* pylab, matplotlib.pyplot,\n",
      "or matplotlib.backends is imported for the first time.\n",
      "\n",
      "  warnings.warn(_use_error_msg)\n"
     ]
    }
   ],
   "source": [
    "import os\n",
    "import sys\n",
    "import traceback\n",
    "import functools\n",
    "import numpy as np\n",
    "import matplotlib\n",
    "import matplotlib.pylab as plt\n",
    "import theano\n",
    "import theano.tensor as T\n",
    "import lasagne\n",
    "import neural_networks as nn \n",
    "from params import nnet_params, hyperparameter_space\n",
    "from params import min_len, max_len, int_maj, batch_size, val_size, test_size\n",
    "from music_utils import generateSequence\n",
    "%matplotlib inline"
   ]
  },
  {
   "cell_type": "code",
   "execution_count": 2,
   "metadata": {
    "collapsed": false
   },
   "outputs": [],
   "source": [
    "# generate data for interval major\n",
    "data = {'train': generateSequence(batch_size, int_maj, min_len, max_len),\n",
    "        'valid': generateSequence(val_size, int_maj, min_len, max_len),\n",
    "        'test': generateSequence(test_size, int_maj, min_len, max_len)}\n",
    "\n",
    "# select model and params\n",
    "model = 'rnn_proll'\n",
    "params = nnet_params[model]\n",
    "\n",
    "# change input shape to take any batch size\n",
    "params['input_shape'] = (None, params['input_shape'][1], params['input_shape'][2])\n",
    "params['input_shape']\n",
    "\n",
    "# build the neural network model\n",
    "layers = nn.build_rnn_proll(\n",
    "    params['input_shape'],\n",
    "    params['mask_shape'],\n",
    "    params['n_hidden'],\n",
    "    params['grad_clip'],\n",
    "    params['init'],\n",
    "    params['non_linearities'])\n",
    "\n",
    "# generate updates-creating function\n",
    "updates_function = functools.partial(params['update_func'], \n",
    "                                     learning_rate=0.1, \n",
    "                                     rho=0.95)\n",
    "\n",
    "# create a list of epochs and keep track of lowest objective found so far\n",
    "epochs = []\n",
    "best_objective = np.inf"
   ]
  },
  {
   "cell_type": "code",
   "execution_count": 3,
   "metadata": {
    "collapsed": false
   },
   "outputs": [
    {
     "name": "stdout",
     "output_type": "stream",
     "text": [
      "Training and Validating ...\n",
      "64: 2.05809526362, 1.34879265765, 0.06640625 \n",
      "128: 1.38141355472, 0.352521190255, 0.0 \n",
      "192: 1.00271411276, 0.156107583624, 0.0 \n",
      "256: 0.781473768307, 0.0781945167173, 0.0 \n",
      "320: 0.638911997652, 0.0470070158121, 0.0 \n",
      "384: 0.539618282824, 0.0340738927639, 0.0 \n",
      "448: 0.46662847512, 0.0245173195071, 0.0 \n",
      "512: 0.410842438412, 0.01815494054, 0.0 \n",
      "576: 0.366896384187, 0.0133882026729, 0.0 \n",
      "640: 0.331481728676, 0.0118858516989, 0.0 \n",
      "704: 0.302286157762, 0.00884706488902, 0.0 \n",
      "768: 0.277821027529, 0.00785882256091, 0.0 \n",
      "832: 0.257019688383, 0.00685945302208, 0.0 \n",
      "896: 0.239149011953, 0.00570278906304, 0.0 \n",
      "960: 0.223595857685, 0.00579610207008, 0.0 \n",
      "1024: 0.20994557505, 0.00442658046667, 0.0 \n",
      "Reached epoch {'train_cost': 0.20994557504980335, 'validate_objective': 0.0, 'validate_cost': 0.0044265804666731275, 'iteration': 1024, 'patience': 5800.0}\n"
     ]
    }
   ],
   "source": [
    "try:\n",
    "    for epoch in nn.train_rnn_proll(data, layers, updates_function, params['batch_size'], params['epoch_size']):\n",
    "        # Stop training if a nan training cost is encountered\n",
    "        if not np.isfinite(epoch['train_cost']):\n",
    "            break\n",
    "        epochs.append(epoch)\n",
    "        if epoch['validate_objective'] < best_objective:\n",
    "            best_objective = epoch['validate_objective']\n",
    "            best_epoch = epoch\n",
    "            best_model = lasagne.layers.get_all_param_values(layers)\n",
    "        print \"{}: {}, {}, {} \".format(\n",
    "            epoch['iteration'],\n",
    "            epoch['train_cost'],\n",
    "            epoch['validate_cost'],\n",
    "            epoch['validate_objective'])\n",
    "        sys.stdout.flush()\n",
    "        if epoch['iteration'] == params['batch_size'] * 8:\n",
    "            print 'Reached epoch {}'.format(epoch)\n",
    "            break\n",
    "# If there was an error while training, report it to whetlab\n",
    "except Exception:\n",
    "    print \"ERROR: \"\n",
    "    print traceback.format_exc()"
   ]
  },
  {
   "cell_type": "code",
   "execution_count": 4,
   "metadata": {
    "collapsed": false
   },
   "outputs": [
    {
     "name": "stdout",
     "output_type": "stream",
     "text": [
      "\n",
      "\t                         train_cost | 1.38141355472\n",
      "\t                 validate_objective | 0.0\n",
      "\t                      validate_cost | 0.352521190255\n",
      "\t                          iteration | 128\n",
      "\t                           patience | 1640.0\n",
      "\n"
     ]
    }
   ],
   "source": [
    "print\n",
    "# Check that all training costs were not NaN; return NaN if any were.\n",
    "success = np.all([np.isfinite(e['train_cost']) for e in epochs])\n",
    "if np.isinf(best_objective) or len(epochs) == 0 or not success:\n",
    "    print '    Failed to converge.'\n",
    "    print\n",
    "else:\n",
    "    for k, v in best_epoch.items():\n",
    "        print \"\\t{:>35} | {}\".format(k, v)\n",
    "    print"
   ]
  },
  {
   "cell_type": "code",
   "execution_count": 5,
   "metadata": {
    "collapsed": false
   },
   "outputs": [],
   "source": [
    "input_var = layers[0].input_var\n",
    "mask_var = layers[1].input_var\n",
    "target_var = T.imatrix('target')\n",
    "prediction_tn = lasagne.layers.get_output(layers[2], deterministic=True)\n",
    "err_rate_tn = T.mean(T.neq(T.argmax(prediction_tn, axis=1), T.argmax(target_var, axis=1)),\n",
    "                     keepdims=True)\n",
    "err_rate_fn = theano.function(inputs=[input_var, target_var, mask_var], outputs=[err_rate_tn])\n",
    "prediction_fn = theano.function(inputs=[input_var, mask_var], outputs=prediction_tn)"
   ]
  },
  {
   "cell_type": "code",
   "execution_count": 6,
   "metadata": {
    "collapsed": false
   },
   "outputs": [
    {
     "name": "stdout",
     "output_type": "stream",
     "text": [
      "Error rate: [array([ 0.])]\n"
     ]
    }
   ],
   "source": [
    "input_data, target_data, mask_data = data['test'].next()\n",
    "prediction = prediction_fn(input_data, mask_data)\n",
    "err_rate = err_rate_fn(input_data, target_data, mask_data)\n",
    "print \"Error rate: {}\".format(err_rate)"
   ]
  },
  {
   "cell_type": "code",
   "execution_count": 7,
   "metadata": {
    "collapsed": false
   },
   "outputs": [
    {
     "data": {
      "text/plain": [
       "<matplotlib.image.AxesImage at 0x117659350>"
      ]
     },
     "execution_count": 7,
     "metadata": {},
     "output_type": "execute_result"
    },
    {
     "data": {
      "image/png": "[encoded data removed]",
      "text/plain": [
       "<matplotlib.figure.Figure at 0x11769b6d0>"
      ]
     },
     "metadata": {},
     "output_type": "display_data"
    }
   ],
   "source": [
    "fig, axes = plt.subplots(2, 1, figsize=(20, 8))\n",
    "axes[0].imshow(target_data.T,\n",
    "               aspect='auto', origin='low', interpolation='nearest',\n",
    "               cmap=plt.cm.plasma)\n",
    "axes[1].imshow(prediction.T,\n",
    "               aspect='auto', origin='low', interpolation='nearest',\n",
    "               cmap=plt.cm.plasma)"
   ]
  },
  {
   "cell_type": "code",
   "execution_count": 8,
   "metadata": {
    "collapsed": false
   },
   "outputs": [],
   "source": [
    "input_data, target_data, mask_data = data['test'].next()"
   ]
  },
  {
   "cell_type": "code",
   "execution_count": 9,
   "metadata": {
    "collapsed": false
   },
   "outputs": [
    {
     "name": "stdout",
     "output_type": "stream",
     "text": [
      "[[0 0 0 0 0 0 0 0 1 0 0 0]\n",
      " [0 0 0 0 0 0 1 0 0 0 0 0]\n",
      " [0 0 0 0 1 0 0 0 0 0 0 0]\n",
      " [0 0 1 0 0 0 0 0 0 0 0 0]\n",
      " [0 1 0 0 0 0 0 0 0 0 0 0]\n",
      " [0 0 0 0 0 0 0 0 0 0 0 1]\n",
      " [0 0 0 0 0 0 0 0 0 1 0 0]]\n",
      "[1 1 1 1 1 0 0]\n",
      "[0 0 0 0 0 0 0 0 0 0 0 1]\n",
      "11\n"
     ]
    }
   ],
   "source": [
    "i = 2\n",
    "print input_data[i]\n",
    "print mask_data[i]\n",
    "print target_data[i]\n",
    "print np.argmax(prediction_fn([input_data[i]], [mask_data[i]]))"
   ]
  },
  {
   "cell_type": "code",
   "execution_count": 10,
   "metadata": {
    "collapsed": false
   },
   "outputs": [
    {
     "name": "stdout",
     "output_type": "stream",
     "text": [
      "Input Test\n",
      "[[[1 0 0 0 0 0 0 0 0 0 0 0]\n",
      "  [0 0 1 0 0 0 0 0 0 0 0 0]\n",
      "  [0 0 0 0 0 0 0 0 0 0 0 0]\n",
      "  [0 0 0 0 0 0 0 0 0 0 0 0]\n",
      "  [0 0 0 0 0 0 0 0 0 0 0 0]\n",
      "  [0 0 0 0 0 0 0 0 0 0 0 0]\n",
      "  [0 0 0 0 0 0 0 0 0 0 0 0]]\n",
      "\n",
      " [[1 0 0 0 0 0 0 0 0 0 0 0]\n",
      "  [0 0 1 0 0 0 0 0 0 0 0 0]\n",
      "  [0 0 0 0 1 0 0 0 0 0 0 0]\n",
      "  [0 0 0 0 0 0 0 0 0 0 0 0]\n",
      "  [0 0 0 0 0 0 0 0 0 0 0 0]\n",
      "  [0 0 0 0 0 0 0 0 0 0 0 0]\n",
      "  [0 0 0 0 0 0 0 0 0 0 0 0]]]\n",
      "Mask Test\n",
      "[[1 1 0 0 0 0 0]\n",
      " [1 1 1 0 0 0 0]]\n"
     ]
    }
   ],
   "source": [
    "# prepare date for prediction tests\n",
    "input_test = np.zeros((2, len(int_maj), 12), dtype=np.int32)\n",
    "mask_test = np.zeros((2, len(int_maj)), dtype=np.int32)\n",
    "input_test[0, 0, 0] = 1\n",
    "input_test[0, 1, 2] = 1\n",
    "input_test[1, 0, 0] = 1\n",
    "input_test[1, 1, 2] = 1\n",
    "input_test[1, 2, 4] = 1\n",
    "mask_test[0, :2] = 1\n",
    "mask_test[1, :3] = 1\n",
    "print 'Input Test\\n{}'.format(input_test)\n",
    "print 'Mask Test\\n{}'.format(mask_test)"
   ]
  },
  {
   "cell_type": "code",
   "execution_count": 11,
   "metadata": {
    "collapsed": false
   },
   "outputs": [
    {
     "data": {
      "text/plain": [
       "<matplotlib.image.AxesImage at 0x115e2bf50>"
      ]
     },
     "execution_count": 11,
     "metadata": {},
     "output_type": "execute_result"
    },
    {
     "data": {
      "image/png": "[encoded data removed]",
      "text/plain": [
       "<matplotlib.figure.Figure at 0x117691610>"
      ]
     },
     "metadata": {},
     "output_type": "display_data"
    }
   ],
   "source": [
    "fig, axes = plt.subplots(1, 2, figsize=(16, 4))\n",
    "axes[0].imshow(prediction_fn([input_test[0]], [mask_test[0]]),\n",
    "           aspect='auto', origin='low', interpolation='nearest',\n",
    "           cmap=plt.cm.plasma)\n",
    "axes[1].imshow(prediction_fn([input_test[1]], [mask_test[1]]),\n",
    "           aspect='auto', origin='low', interpolation='nearest',\n",
    "           cmap=plt.cm.plasma)"
   ]
  },
  {
   "cell_type": "code",
   "execution_count": 12,
   "metadata": {
    "collapsed": false
   },
   "outputs": [
    {
     "name": "stdout",
     "output_type": "stream",
     "text": [
      "Predicted from C\n",
      "[[1 0 0 0 0 0 0 0 0 0 0 0]\n",
      " [0 0 1 0 0 0 0 0 0 0 0 0]\n",
      " [0 0 0 0 1 0 0 0 0 0 0 0]\n",
      " [0 0 0 0 0 1 0 0 0 0 0 0]\n",
      " [0 0 0 0 0 0 0 1 0 0 0 0]\n",
      " [0 0 0 0 0 0 0 0 0 1 0 0]\n",
      " [0 0 0 0 0 0 0 0 0 0 0 1]]\n"
     ]
    }
   ],
   "source": [
    "# hack for multi-step prediction\n",
    "for i in range(2, len(int_maj)):\n",
    "    # Pick the character that got assigned the highest probability\n",
    "    p_i = np.argmax(prediction_fn([input_test[0]], [mask_test[0]]))\n",
    "    # Alternatively, to sample from the distribution instead:\n",
    "    # ix = np.random.choice(np.arange(vocab_size), p=probs(x).ravel())\n",
    "    input_test[0, i, p_i] = 1\n",
    "    mask_test[0, i] = 1\n",
    "print \"Predicted from C\\n{}\".format(input_test[0])"
   ]
  },
  {
   "cell_type": "code",
   "execution_count": 13,
   "metadata": {
    "collapsed": false
   },
   "outputs": [
    {
     "name": "stdout",
     "output_type": "stream",
     "text": [
      "Predicted from C\n",
      "[[1 0 0 0 0 0 0 0 0 0 0 0]\n",
      " [0 0 1 0 0 0 0 0 0 0 0 0]\n",
      " [0 0 0 0 1 0 0 0 0 0 0 0]\n",
      " [0 0 0 0 0 1 0 0 0 0 0 0]\n",
      " [0 0 0 0 0 0 0 1 0 0 0 0]\n",
      " [0 0 0 0 0 0 0 0 0 1 0 0]\n",
      " [0 0 0 0 0 0 0 0 0 0 0 1]]\n"
     ]
    }
   ],
   "source": [
    "# hack for multi-step prediction\n",
    "for i in range(3, len(int_maj)):\n",
    "    # Pick the character that got assigned the highest probability\n",
    "    p_i = np.argmax(prediction_fn([input_test[1]], [mask_test[1]]))\n",
    "    # Alternatively, to sample from the distribution instead:\n",
    "    # ix = np.random.choice(np.arange(vocab_size), p=probs(x).ravel())\n",
    "    input_test[1, i, p_i] = 1\n",
    "    mask_test[1, i] = 1\n",
    "\n",
    "print \"Predicted from C\\n{}\".format(input_test[1])"
   ]
  }
 ],
 "metadata": {
  "kernelspec": {
   "display_name": "Python 2",
   "language": "python",
   "name": "python2"
  },
  "language_info": {
   "codemirror_mode": {
    "name": "ipython",
    "version": 2
   },
   "file_extension": ".py",
   "mimetype": "text/x-python",
   "name": "python",
   "nbconvert_exporter": "python",
   "pygments_lexer": "ipython2",
   "version": "2.7.12"
  }
 },
 "nbformat": 4,
 "nbformat_minor": 0
}
